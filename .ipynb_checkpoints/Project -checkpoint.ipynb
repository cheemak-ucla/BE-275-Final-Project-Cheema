{
 "cells": [
  {
   "cell_type": "code",
   "execution_count": 1,
   "metadata": {},
   "outputs": [],
   "source": [
    "import numpy as np\n",
    "import pandas as pd\n",
    "import matplotlib.pyplot as plt\n",
    "import locale\n",
    "from sklearn.cluster import KMeans"
   ]
  },
  {
   "cell_type": "markdown",
   "metadata": {},
   "source": [
    "Assumptions / Simplifications:\n",
    "1. Census data from 2016 (for Race and Ethnicity)\n",
    "2. Income data from 2018\n",
    "3. Averaging multiple zip codes within each neighborhood to get an average income and race data.\n",
    "4. COVID data valid as of 2/10/2021\n"
   ]
  },
  {
   "cell_type": "markdown",
   "metadata": {},
   "source": [
    "End Goal is to have a dataset that looks like this :\n",
    "\n",
    "Neighborhood/City, %Native American, %Asian, %Black, %Hispanic, %Pacific Islanders, %Other,, %2 or More, '%White' Income, adj COVID Cases, adj COVID Deaths"
   ]
  },
  {
   "cell_type": "markdown",
   "metadata": {},
   "source": [
    "# Import Data"
   ]
  },
  {
   "cell_type": "markdown",
   "metadata": {},
   "source": [
    "### 1. Import Census Data (https://usc.data.socrata.com/Los-Angeles/Race-Ethnicity-LA-/jxw5-xxv5)"
   ]
  },
  {
   "cell_type": "code",
   "execution_count": 2,
   "metadata": {},
   "outputs": [
    {
     "data": {
      "text/html": [
       "<div>\n",
       "<style scoped>\n",
       "    .dataframe tbody tr th:only-of-type {\n",
       "        vertical-align: middle;\n",
       "    }\n",
       "\n",
       "    .dataframe tbody tr th {\n",
       "        vertical-align: top;\n",
       "    }\n",
       "\n",
       "    .dataframe thead th {\n",
       "        text-align: right;\n",
       "    }\n",
       "</style>\n",
       "<table border=\"1\" class=\"dataframe\">\n",
       "  <thead>\n",
       "    <tr style=\"text-align: right;\">\n",
       "      <th></th>\n",
       "      <th>Year</th>\n",
       "      <th>Variable</th>\n",
       "      <th>Count</th>\n",
       "      <th>Percent</th>\n",
       "      <th>Neighborhood</th>\n",
       "    </tr>\n",
       "  </thead>\n",
       "  <tbody>\n",
       "    <tr>\n",
       "      <th>0</th>\n",
       "      <td>2010</td>\n",
       "      <td>American Indian/Native Population</td>\n",
       "      <td>0</td>\n",
       "      <td>0</td>\n",
       "      <td>Tujunga</td>\n",
       "    </tr>\n",
       "    <tr>\n",
       "      <th>1</th>\n",
       "      <td>2010</td>\n",
       "      <td>American Indian/Native Population</td>\n",
       "      <td>31</td>\n",
       "      <td>0.83043128</td>\n",
       "      <td>Tujunga</td>\n",
       "    </tr>\n",
       "    <tr>\n",
       "      <th>2</th>\n",
       "      <td>2010</td>\n",
       "      <td>American Indian/Native Population</td>\n",
       "      <td>17</td>\n",
       "      <td>0.92341119</td>\n",
       "      <td>Shadow Hills</td>\n",
       "    </tr>\n",
       "    <tr>\n",
       "      <th>3</th>\n",
       "      <td>2010</td>\n",
       "      <td>American Indian/Native Population</td>\n",
       "      <td>0</td>\n",
       "      <td>0</td>\n",
       "      <td>Shadow Hills</td>\n",
       "    </tr>\n",
       "    <tr>\n",
       "      <th>4</th>\n",
       "      <td>2010</td>\n",
       "      <td>American Indian/Native Population</td>\n",
       "      <td>0</td>\n",
       "      <td>0</td>\n",
       "      <td>Sun Valley</td>\n",
       "    </tr>\n",
       "  </tbody>\n",
       "</table>\n",
       "</div>"
      ],
      "text/plain": [
       "   Year                           Variable Count     Percent  Neighborhood\n",
       "0  2010  American Indian/Native Population     0           0       Tujunga\n",
       "1  2010  American Indian/Native Population    31  0.83043128       Tujunga\n",
       "2  2010  American Indian/Native Population    17  0.92341119  Shadow Hills\n",
       "3  2010  American Indian/Native Population     0           0  Shadow Hills\n",
       "4  2010  American Indian/Native Population     0           0    Sun Valley"
      ]
     },
     "execution_count": 2,
     "metadata": {},
     "output_type": "execute_result"
    }
   ],
   "source": [
    "locale.setlocale( locale.LC_ALL, 'en_US.UTF-8' ) # To remove commas from numbers\n",
    "dtypes = np.array([int, str, int, float, str])\n",
    "Race = pd.read_csv('Race___Ethnicity__LA_.csv', dtype = dtypes)\n",
    "Race.head()"
   ]
  },
  {
   "cell_type": "markdown",
   "metadata": {},
   "source": [
    "### 2. Import Income Data (http://www.laalmanac.com/employment/em12c.php)"
   ]
  },
  {
   "cell_type": "code",
   "execution_count": null,
   "metadata": {},
   "outputs": [],
   "source": []
  },
  {
   "cell_type": "markdown",
   "metadata": {},
   "source": [
    "# Pre-Processing"
   ]
  },
  {
   "cell_type": "markdown",
   "metadata": {},
   "source": [
    "### 1. Census Data"
   ]
  },
  {
   "cell_type": "markdown",
   "metadata": {},
   "source": [
    "Next, we will change numerical data to ints or floats. The for loop in the end removes commas from the \"counts\" columns and covnerts the string to an int."
   ]
  },
  {
   "cell_type": "code",
   "execution_count": 3,
   "metadata": {},
   "outputs": [],
   "source": [
    "Data = Race.to_numpy()\n",
    "temp = Data[:,[0,3]].astype(float)\n",
    "Data[:,0] = temp[:,0]\n",
    "Data[:,3] = temp[:,1]\n",
    "# Data = ['Year (int)', 'Race (Str)', 'Count (Str)', 'Percent (float)', 'Neighborhood (Str)']\n",
    "\n",
    "for i in range(Data.shape[0]):\n",
    "\n",
    "    Data[i,2] = locale.atoi(Data[i,2])\n",
    "    "
   ]
  },
  {
   "cell_type": "markdown",
   "metadata": {},
   "source": [
    "Extracting 2016 Census Data"
   ]
  },
  {
   "cell_type": "code",
   "execution_count": 4,
   "metadata": {},
   "outputs": [],
   "source": [
    "Year_2016 = np.where(Data[:,0]==2016,1,0)"
   ]
  },
  {
   "cell_type": "code",
   "execution_count": 5,
   "metadata": {},
   "outputs": [
    {
     "name": "stdout",
     "output_type": "stream",
     "text": [
      "(13231, 5)\n"
     ]
    }
   ],
   "source": [
    "Data_2016 = []\n",
    "for i in range(Data.shape[0]):    \n",
    "    if Data[i,0] == 2016 and Data[i,2] != 0:\n",
    "        Data_2016 = np.append(Data_2016, Data[i,:]) \n",
    "        \n",
    "Data_2016 = np.reshape( Data_2016, (int(Data_2016.shape[0]/5), 5) )\n",
    "print(Data_2016.shape)"
   ]
  },
  {
   "cell_type": "code",
   "execution_count": 6,
   "metadata": {},
   "outputs": [],
   "source": [
    "Neighborhoods = np.unique(Data_2016[:,4])\n",
    "Races = np.unique(Data_2016[:,1])\n",
    "# We have 8 races: \n",
    "#.    Black Population (2161), Asian Population (2205), White Population (2306), Hispanic Population (2322)..., \n",
    "#  ...American Indian/Native Population (745), Native Hawaiian/ Other Pacific Islander Population (576)...\n",
    "# ...\"Population of Two or More Races(2032)\", \"Other Race Population (884)\"    \n",
    "\n",
    "# We have 260 Neighborhoods/ cities"
   ]
  },
  {
   "cell_type": "code",
   "execution_count": 7,
   "metadata": {},
   "outputs": [],
   "source": [
    "Temp = np.zeros((Neighborhoods.shape[0],Races.shape[0]))\n",
    "\n",
    "\n",
    "for N in range(Neighborhoods.shape[0]):                   # For each neighbhorhoods\n",
    "    \n",
    "    # Counter for each race's population\n",
    "    \n",
    "    t = 0 # Total\n",
    "    b = 0 # Black\n",
    "    h = 0 # Hispanic\n",
    "    o = 0 # Other\n",
    "    m = 0 # Mixed\n",
    "    w = 0 # White\n",
    "    p = 0 # Pacific Islanders\n",
    "    n = 0 # Native Americans\n",
    "    a = 0 # Asians\n",
    "\n",
    "    for i in range(Data_2016.shape[0]):        # Go through all the dataset \n",
    "        if Data_2016[i,4] == Neighborhoods[N]: # For a particular neighborhood\n",
    "\n",
    "            t += np.sum(Data_2016[i,2])        # Calculate total number of people in that neighborhood\n",
    "            \n",
    "            if Data_2016[i,1] == Races[0]:     # Find total number of Native Americans in that neighborhood\n",
    "                n += np.sum(Data_2016[i,2])\n",
    "\n",
    "            if Data_2016[i,1] == Races[1]:     # Find total number of Asian Americans in that neighborhood\n",
    "                a += np.sum(Data_2016[i,2])\n",
    "\n",
    "                \n",
    "            if Data_2016[i,1] == Races[2]:     # Find total number of African Americans in that neighborhood\n",
    "                b += np.sum(Data_2016[i,2])\n",
    "\n",
    "                \n",
    "            if Data_2016[i,1] == Races[3]:     # Find total number of Hispanic Americans in that neighborhood\n",
    "                h += np.sum(Data_2016[i,2])\n",
    "\n",
    "                \n",
    "            if Data_2016[i,1] == Races[4]:     # Find total number of Pacific Islander in that neighborhood\n",
    "                p += np.sum(Data_2016[i,2])\n",
    "\n",
    "                \n",
    "            if Data_2016[i,1] == Races[5]:     # Find total number of Other Race Americans in that neighborhood\n",
    "                o += np.sum(Data_2016[i,2])\n",
    "\n",
    "                \n",
    "            if Data_2016[i,1] == Races[6]:     # Find total number of Mixed race Americans in that neighborhood\n",
    "                m += np.sum(Data_2016[i,2])\n",
    "\n",
    "                \n",
    "            if Data_2016[i,1] == Races[7]:     # Find total number of White Americans in that neighborhood\n",
    "                w += np.sum(Data_2016[i,2])\n",
    "\n",
    "                \n",
    "        assert(t == (n+a+b+h+p+o+m+w))      \n",
    "\n",
    "        \n",
    "    \n",
    "    Temp[N,:] = np.array([n/t*100, a/t*100, b/t*100, h/t*100, p/t*100, o/t*100, m/t*100, w/t*100])\n",
    "    "
   ]
  },
  {
   "cell_type": "markdown",
   "metadata": {},
   "source": [
    "Check results for some specific neighborhoods"
   ]
  },
  {
   "cell_type": "code",
   "execution_count": 11,
   "metadata": {},
   "outputs": [
    {
     "name": "stdout",
     "output_type": "stream",
     "text": [
      "Percentage of American Indian/Native Population in Santa Fe Springs is  0.317 %\n",
      "Percentage of Asian Population in Santa Fe Springs is  7.275 %\n",
      "Percentage of Black Population in Santa Fe Springs is  3.516 %\n",
      "Percentage of Hispanic Population in Santa Fe Springs is  79.388 %\n",
      "Percentage of Native Hawaiian/Other Pacific Islander Population in Santa Fe Springs is  0.0 %\n",
      "Percentage of Other Race Population in Santa Fe Springs is  0.915 %\n",
      "Percentage of Population of Two or More Races in Santa Fe Springs is  0.454 %\n",
      "Percentage of White Population in Santa Fe Springs is  8.134 %\n"
     ]
    }
   ],
   "source": [
    "neighborhood = 'Santa Fe Springs'\n",
    "index = np.where(Neighborhoods==neighborhood)[0][0]\n",
    "\n",
    "for race in range(Races.shape[0]):\n",
    "    \n",
    "    print('Percentage of', Races[race], 'in', Neighborhoods[index], 'is ', np.round(Temp[index,race],3), '%') \n",
    "\n"
   ]
  },
  {
   "cell_type": "markdown",
   "metadata": {},
   "source": [
    "### 2. Income Data"
   ]
  },
  {
   "cell_type": "code",
   "execution_count": null,
   "metadata": {},
   "outputs": [],
   "source": []
  }
 ],
 "metadata": {
  "kernelspec": {
   "display_name": "Python 3",
   "language": "python",
   "name": "python3"
  },
  "language_info": {
   "codemirror_mode": {
    "name": "ipython",
    "version": 3
   },
   "file_extension": ".py",
   "mimetype": "text/x-python",
   "name": "python",
   "nbconvert_exporter": "python",
   "pygments_lexer": "ipython3",
   "version": "3.8.5"
  }
 },
 "nbformat": 4,
 "nbformat_minor": 4
}
